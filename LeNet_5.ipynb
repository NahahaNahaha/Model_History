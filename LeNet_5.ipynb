{
  "nbformat": 4,
  "nbformat_minor": 0,
  "metadata": {
    "colab": {
      "name": "LeNet-5.ipynb",
      "provenance": [],
      "authorship_tag": "ABX9TyMaOGkIqR2Uh5pCkH0CnKYc",
      "include_colab_link": true
    },
    "kernelspec": {
      "name": "python3",
      "display_name": "Python 3"
    },
    "language_info": {
      "name": "python"
    }
  },
  "cells": [
    {
      "cell_type": "markdown",
      "metadata": {
        "id": "view-in-github",
        "colab_type": "text"
      },
      "source": [
        "<a href=\"https://colab.research.google.com/github/NahahaNahaha/Model_History/blob/main/LeNet_5.ipynb\" target=\"_parent\"><img src=\"https://colab.research.google.com/assets/colab-badge.svg\" alt=\"Open In Colab\"/></a>"
      ]
    },
    {
      "cell_type": "code",
      "execution_count": 1,
      "metadata": {
        "id": "OhHlmrjRGJv3"
      },
      "outputs": [],
      "source": [
        "import torch \n",
        "import torch.nn as nn"
      ]
    },
    {
      "cell_type": "code",
      "source": [
        "class LeNet(nn.Module):\n",
        "  def __init__(self, class_n):\n",
        "    super().__init__()\n",
        "    self.conv1 = nn.Conv2d(in_channels= 1, out_channels= 6, kernel_size= 5, stride = 1)\n",
        "    self.conv2 = nn.Conv2d(in_channels= 6, out_channels= 16, kernel_size= 5, stride = 1)\n",
        "    self.conv3 = nn.Conv2d(in_channels= 16, out_channels= 120, kernel_size= 5, stride = 1) \n",
        "    self.relu = nn.ReLU()\n",
        "    self.line1 = nn.Linear(120, 84)\n",
        "    self.line2 = nn.Linear(84, class_n)\n",
        "    self.avgpool = nn.AvgPool2d(kernel_size = 2, stride = 2)\n",
        "                       \n",
        "  def forward(self, x):\n",
        "    x = self.relu(self.conv1(x))\n",
        "    x = self.avgpool(x)\n",
        "    x = self.relu(self.conv2(x))\n",
        "    x = self.avgpool(x)\n",
        "    x = self.relu(self.conv3(x))\n",
        "    x = x.reshape(x.shape[0], -1)\n",
        "    x = self.relu(self.line1(x))\n",
        "    x = self.line2(x) \n",
        "    return x \n",
        "\n",
        "  \n",
        "\n",
        "\n",
        "  "
      ],
      "metadata": {
        "id": "mqVybeRvGOf5"
      },
      "execution_count": 18,
      "outputs": []
    },
    {
      "cell_type": "code",
      "source": [
        "x = torch.randn(64, 1, 32, 32)\n",
        "model = LeNet(10)\n",
        "print(model(x).shape)"
      ],
      "metadata": {
        "colab": {
          "base_uri": "https://localhost:8080/"
        },
        "id": "CWh-iikGOGPr",
        "outputId": "ce6468dc-76fe-41d0-a83a-b0a1d34b181f"
      },
      "execution_count": 19,
      "outputs": [
        {
          "output_type": "stream",
          "name": "stdout",
          "text": [
            "torch.Size([64, 10])\n"
          ]
        }
      ]
    },
    {
      "cell_type": "code",
      "source": [
        ""
      ],
      "metadata": {
        "id": "zF2gNnlpOSY6"
      },
      "execution_count": null,
      "outputs": []
    }
  ]
}